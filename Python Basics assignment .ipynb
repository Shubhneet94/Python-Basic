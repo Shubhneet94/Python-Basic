{
 "cells": [
  {
   "cell_type": "markdown",
   "id": "e7866757-1784-4a58-abb4-098fe51cfbd4",
   "metadata": {},
   "source": [
    "##### Q1. Write a Python program to print \"Hello, World\"\n"
   ]
  },
  {
   "cell_type": "code",
   "execution_count": 1,
   "id": "1365d898-3b6e-40a6-aed6-398cb5a780ca",
   "metadata": {},
   "outputs": [
    {
     "name": "stdout",
     "output_type": "stream",
     "text": [
      "Hello world\n"
     ]
    }
   ],
   "source": [
    "print(\"Hello world\") #Using print command "
   ]
  },
  {
   "cell_type": "markdown",
   "id": "1da8103c-48d8-4715-b8ae-c658e2be370e",
   "metadata": {},
   "source": [
    "##### Q2. Write a Python program that displays your name and age?"
   ]
  },
  {
   "cell_type": "code",
   "execution_count": 6,
   "id": "dbb29072-9321-4a9e-91e9-f27d8324a23e",
   "metadata": {},
   "outputs": [
    {
     "name": "stdin",
     "output_type": "stream",
     "text": [
      "Your Name is  Shubhneet Tiwari\n",
      "Your Age is 30\n"
     ]
    },
    {
     "name": "stdout",
     "output_type": "stream",
     "text": [
      "\n"
     ]
    }
   ],
   "source": [
    "a=input(\"Your Name is \") #Using Input to display name of any user\n",
    "b=input(\"Your Age is\") #using input to display Age of any user\n",
    "print()"
   ]
  },
  {
   "cell_type": "markdown",
   "id": "cb5bc7a2-7483-4b47-b5cd-3418d99b234b",
   "metadata": {},
   "source": [
    "##### Q3.Write code to print all the pre-defined keywords in Python using the keyword library."
   ]
  },
  {
   "cell_type": "code",
   "execution_count": 9,
   "id": "ae371fa5-3cf4-412f-b20a-a6d918fd47a2",
   "metadata": {},
   "outputs": [
    {
     "name": "stdout",
     "output_type": "stream",
     "text": [
      "\n",
      "Here is a list of the Python keywords.  Enter any keyword to get more help.\n",
      "\n",
      "False               class               from                or\n",
      "None                continue            global              pass\n",
      "True                def                 if                  raise\n",
      "and                 del                 import              return\n",
      "as                  elif                in                  try\n",
      "assert              else                is                  while\n",
      "async               except              lambda              with\n",
      "await               finally             nonlocal            yield\n",
      "break               for                 not                 \n",
      "\n"
     ]
    }
   ],
   "source": [
    "help('keywords') #Using help to print all pre-defined keywords in python"
   ]
  },
  {
   "cell_type": "markdown",
   "id": "472be82d-68c2-493a-a5f6-f6dde5d17ab5",
   "metadata": {},
   "source": [
    "##### Q4. Write a program that checks if a given word is a Python keyword."
   ]
  },
  {
   "cell_type": "code",
   "execution_count": 13,
   "id": "7465326f-6c35-45f4-a876-c79891a17688",
   "metadata": {},
   "outputs": [
    {
     "name": "stdout",
     "output_type": "stream",
     "text": [
      "Hello World\n"
     ]
    }
   ],
   "source": [
    "a=8\n",
    "b=5\n",
    "if a>b: # here 'if' statement is keyword\n",
    "    print(\"Hello World\") # here 'print' is key word"
   ]
  },
  {
   "cell_type": "markdown",
   "id": "a825e5b2-a02d-498b-9e15-d1bac6fd8da2",
   "metadata": {},
   "source": [
    "##### Q5. Create a list and tuple in Python, and demonstrate how attempting to change an element works differently for each."
   ]
  },
  {
   "cell_type": "code",
   "execution_count": 16,
   "id": "e53559c7-5979-4d7f-8464-b46d3a0ece39",
   "metadata": {},
   "outputs": [
    {
     "name": "stdout",
     "output_type": "stream",
     "text": [
      "[1, 2, 3, 4, 5, 6]\n"
     ]
    }
   ],
   "source": [
    "list=[1,2,3,4,5,6] # creating a list \n",
    "print(list)"
   ]
  },
  {
   "cell_type": "code",
   "execution_count": 17,
   "id": "e98e60e8-41d5-4a47-8f48-b2ae9ab788bb",
   "metadata": {},
   "outputs": [
    {
     "name": "stdout",
     "output_type": "stream",
     "text": [
      "[1, 2, 89, 4, 5, 6]\n"
     ]
    }
   ],
   "source": [
    "list[2]=89 # List is mutable hence it can change\n",
    "print(list)"
   ]
  },
  {
   "cell_type": "code",
   "execution_count": 19,
   "id": "acea12bf-4531-42d9-8e62-323aacac8df6",
   "metadata": {},
   "outputs": [
    {
     "name": "stdout",
     "output_type": "stream",
     "text": [
      "(1, 2, 3, 4, 5, 6)\n"
     ]
    }
   ],
   "source": [
    "Tuple=(1,2,3,4,5,6) # creating a Tuple\n",
    "print(Tuple)"
   ]
  },
  {
   "cell_type": "code",
   "execution_count": 20,
   "id": "60a2b598-f74f-4c6d-8d10-965e69e7429a",
   "metadata": {},
   "outputs": [
    {
     "ename": "TypeError",
     "evalue": "'tuple' object does not support item assignment",
     "output_type": "error",
     "traceback": [
      "\u001b[1;31m---------------------------------------------------------------------------\u001b[0m",
      "\u001b[1;31mTypeError\u001b[0m                                 Traceback (most recent call last)",
      "Cell \u001b[1;32mIn[20], line 1\u001b[0m\n\u001b[1;32m----> 1\u001b[0m Tuple[\u001b[38;5;241m2\u001b[39m]\u001b[38;5;241m=\u001b[39m\u001b[38;5;241m56\u001b[39m\n\u001b[0;32m      2\u001b[0m \u001b[38;5;28mprint\u001b[39m(Tuple)\n",
      "\u001b[1;31mTypeError\u001b[0m: 'tuple' object does not support item assignment"
     ]
    }
   ],
   "source": [
    "Tuple[2]=56 # Tuple is immutable hence it can not change\n",
    "print(Tuple)"
   ]
  },
  {
   "cell_type": "markdown",
   "id": "3c0c0046-3fa2-4c97-be6e-a51dd3418ca6",
   "metadata": {},
   "source": [
    "##### Q6. Write a function to demonstrate the behavior of mutable and immutable arguments."
   ]
  },
  {
   "cell_type": "code",
   "execution_count": 24,
   "id": "e354b1cc-0ee9-46eb-96cd-1e743126613f",
   "metadata": {},
   "outputs": [
    {
     "name": "stdout",
     "output_type": "stream",
     "text": [
      "Original list [1, 2, 3, 4, 5, 6, 6, 5]\n",
      "changed list  [1, 2, 3, 45, 5, 6, 6, 5]\n"
     ]
    }
   ],
   "source": [
    "## writing a function for mutable argumenst using List\n",
    "\n",
    "my_list=[1,2,3,4,5,6,6,5] ## defining value in list function\n",
    "print(\"Original list\", my_list)\n",
    "\n",
    "my_list[3]=45 ## Making change in defined list\n",
    "print(\"changed list \", my_list)\n",
    "\n",
    "## value defined in 'my_list' list function get changed which shows ,it is mutable "
   ]
  },
  {
   "cell_type": "code",
   "execution_count": 26,
   "id": "70b2cd53-0532-457f-a530-bd79f00f62b6",
   "metadata": {},
   "outputs": [
    {
     "name": "stdout",
     "output_type": "stream",
     "text": [
      "Original tuple (1, 5, 6, 6, 44, 78, 2)\n"
     ]
    },
    {
     "ename": "TypeError",
     "evalue": "'tuple' object does not support item assignment",
     "output_type": "error",
     "traceback": [
      "\u001b[1;31m---------------------------------------------------------------------------\u001b[0m",
      "\u001b[1;31mTypeError\u001b[0m                                 Traceback (most recent call last)",
      "Cell \u001b[1;32mIn[26], line 6\u001b[0m\n\u001b[0;32m      3\u001b[0m my_tuple\u001b[38;5;241m=\u001b[39m(\u001b[38;5;241m1\u001b[39m,\u001b[38;5;241m5\u001b[39m,\u001b[38;5;241m6\u001b[39m,\u001b[38;5;241m6\u001b[39m,\u001b[38;5;241m44\u001b[39m,\u001b[38;5;241m78\u001b[39m,\u001b[38;5;241m2\u001b[39m) \u001b[38;5;66;03m## creating  tuple\u001b[39;00m\n\u001b[0;32m      4\u001b[0m \u001b[38;5;28mprint\u001b[39m(\u001b[38;5;124m\"\u001b[39m\u001b[38;5;124mOriginal tuple\u001b[39m\u001b[38;5;124m\"\u001b[39m, my_tuple)\n\u001b[1;32m----> 6\u001b[0m my_tuple[\u001b[38;5;241m2\u001b[39m]\u001b[38;5;241m=\u001b[39m\u001b[38;5;241m26\u001b[39m \u001b[38;5;66;03m## Making change in tuple\u001b[39;00m\n\u001b[0;32m      7\u001b[0m \u001b[38;5;28mprint\u001b[39m(\u001b[38;5;124m\"\u001b[39m\u001b[38;5;124mchanged tuple\u001b[39m\u001b[38;5;124m\"\u001b[39m, my_tuple)\n",
      "\u001b[1;31mTypeError\u001b[0m: 'tuple' object does not support item assignment"
     ]
    }
   ],
   "source": [
    "## writing a function for immutable using Tuple\n",
    "\n",
    "my_tuple=(1,5,6,6,44,78,2) ## creating  tuple\n",
    "print(\"Original tuple\", my_tuple)\n",
    "\n",
    "my_tuple[2]=26 ## Making change in tuple\n",
    "print(\"changed tuple\", my_tuple)\n",
    "\n",
    "## on making change in tuple it shows('tuple' object does not support item assignment) error as it is immutable"
   ]
  },
  {
   "cell_type": "markdown",
   "id": "177625d5-a9aa-4ba3-810e-a92e9df2e169",
   "metadata": {},
   "source": [
    "##### Q7. Write a program that performs basic arithmetic operations on two user-input numbers."
   ]
  },
  {
   "cell_type": "code",
   "execution_count": 39,
   "id": "c6afd3c7-a127-4d8f-8bad-a7ac16fd1ee5",
   "metadata": {},
   "outputs": [
    {
     "name": "stdin",
     "output_type": "stream",
     "text": [
      "Name Shubhneet Tiwari\n",
      "Science marks 89\n",
      "Maths marks 98\n",
      "Hindi marks 65\n",
      "Social marks 78\n"
     ]
    },
    {
     "name": "stdout",
     "output_type": "stream",
     "text": [
      "Total Marks 330\n",
      "Percentage  82.5 %\n"
     ]
    }
   ],
   "source": [
    "## creating program to print marks of an students ,its total and percentage \n",
    "Name= input (\"Name\") ## To Call name of the user \n",
    "## Using input keyword for printing marks of student\n",
    "a=int(input (\"Science marks\")) \n",
    "b=int(input (\"Maths marks\"))\n",
    "c=int(input (\"Hindi marks\"))\n",
    "d=int(input (\"Social marks\"))\n",
    "e=a+b+c+d ## Identifying sum or Total marks of student\n",
    "f=(e/400)*100 ## Identifying percentage of student\n",
    "print(\"Total Marks\", e)\n",
    "print(\"Percentage \", f,\"%\")\n",
    "\n"
   ]
  },
  {
   "cell_type": "markdown",
   "id": "f9e3137a-be9a-425d-b268-48f50ae8e271",
   "metadata": {},
   "source": [
    "##### Q8.  Write a program to demonstrate the use of logical operators."
   ]
  },
  {
   "cell_type": "code",
   "execution_count": 41,
   "id": "d52454a1-044e-4ef8-8135-3e48188a4246",
   "metadata": {},
   "outputs": [
    {
     "name": "stdout",
     "output_type": "stream",
     "text": [
      "True\n",
      "True\n",
      "False\n"
     ]
    }
   ],
   "source": [
    "## creating program using logical operators \n",
    "a=10\n",
    "b=5\n",
    "c=25\n",
    "\n",
    "## and >> Using 'and' operator \n",
    "print(a>b and a<c) ## True and False >> True\n",
    "\n",
    "## or >> Using 'or' operator\n",
    "print(a<b or a<c) ## False or True >> True\n",
    "\n",
    "## not >> Using 'not' Operator\n",
    "print(not(a<c)) ## not(True) >> False"
   ]
  },
  {
   "cell_type": "markdown",
   "id": "05fe4452-8612-4791-94dd-203eba6ee126",
   "metadata": {},
   "source": [
    "##### Q9. Write a Python program to convert user input from string to integer, float, and boolean types."
   ]
  },
  {
   "cell_type": "code",
   "execution_count": 44,
   "id": "0140710a-aa16-43d3-b2eb-d9af20b81231",
   "metadata": {},
   "outputs": [
    {
     "name": "stdout",
     "output_type": "stream",
     "text": [
      "Original Type 10\n",
      "<class 'str'>\n",
      "changed type to 10\n",
      "<class 'int'>\n",
      "changed type to 10.0\n",
      "<class 'float'>\n",
      "changed type to True\n",
      "<class 'bool'>\n"
     ]
    }
   ],
   "source": [
    "## writing program to convert string (str)to integer(int), float and bolean types\n",
    "\n",
    "a=str(10)\n",
    "print(\"Original Type\", a)\n",
    "print(type(a))\n",
    "\n",
    "## converting string (str)to integer(int)\n",
    "b=int(a)\n",
    "print(\"changed type to\", b)\n",
    "print(type(b))\n",
    "\n",
    "## converting integer(int) value to float \n",
    "c=float(b)\n",
    "print(\"changed type to\", c)\n",
    "print(type(c))\n",
    "\n",
    "## converting float value to boolean (bool)\n",
    "d=bool(c)\n",
    "print(\"changed type to\", d)\n",
    "print(type(d))\n"
   ]
  },
  {
   "cell_type": "markdown",
   "id": "dff70407-6198-46e8-bba8-e6b4942a3d0f",
   "metadata": {},
   "source": [
    "##### Q10. Write code to demonstrate type casting with list elements."
   ]
  },
  {
   "cell_type": "code",
   "execution_count": 46,
   "id": "1670c151-19fa-4614-851d-8cbe62461dba",
   "metadata": {},
   "outputs": [
    {
     "name": "stdout",
     "output_type": "stream",
     "text": [
      "20.25\n",
      "<class 'float'>\n"
     ]
    }
   ],
   "source": [
    "## writing program to show type casting \n",
    "## Implicit type casting \n",
    "\n",
    "a=int(10) ## 'int' represent as inetger value\n",
    "b=float(10.25) ##'float' represent float value \n",
    "sum=a+b\n",
    "print(sum)\n",
    "print(type(sum))\n",
    "\n",
    "## in performed operation type automaticly gets converted by python "
   ]
  },
  {
   "cell_type": "code",
   "execution_count": 53,
   "id": "6f6ee578-d83c-4ee9-b266-605d110f11d6",
   "metadata": {},
   "outputs": [
    {
     "name": "stdout",
     "output_type": "stream",
     "text": [
      "original type 10\n",
      "<class 'str'>\n",
      "changed type 10\n",
      "<class 'int'>\n",
      "changed type 10.0\n"
     ]
    }
   ],
   "source": [
    "## Explicit type casting \n",
    "\n",
    "a=str(10) ## string as str\n",
    "print(\"original type\",a)\n",
    "print(type(a))\n",
    "\n",
    "## converting String (str) into integer(int)\n",
    "b=int(a) ## Integer as int\n",
    "print(\"changed type\",b)\n",
    "print(type(b))\n",
    "\n",
    "## converting integer (int) into float\n",
    "c=float(b) \n",
    "print(\"changed type\",c)"
   ]
  },
  {
   "cell_type": "markdown",
   "id": "b45f3b8b-85c2-4ae5-ba8f-b220da3e3c6d",
   "metadata": {},
   "source": [
    "##### Q.11  Write a program that checks if a number is positive, negative, or zero."
   ]
  },
  {
   "cell_type": "code",
   "execution_count": 56,
   "id": "2d48b5e6-be69-4cd4-aa7a-3670a2574699",
   "metadata": {},
   "outputs": [
    {
     "name": "stdin",
     "output_type": "stream",
     "text": [
      "Enter the number -25\n"
     ]
    },
    {
     "name": "stdout",
     "output_type": "stream",
     "text": [
      "-25.0 number is negative\n"
     ]
    }
   ],
   "source": [
    "## writing program to checks if a number is postive , negative or zero\n",
    "\n",
    "num= float(input(\"Enter the number\")) ## Defining 'num' as varibale to input value\n",
    "if num>0: ## checking if entered number is greater than '0' than it is positive\n",
    "    print(num,\"number is positive\") \n",
    "elif num==0: ## checking if entered number is equal to 'o' or not \n",
    "    print(num,\"number is Zero\")\n",
    "elif num<0: ## chceking number is less than '0' or not \n",
    "    print(num,\"number is negative\")\n",
    "else:\n",
    "    print(\"Incorrect value \")"
   ]
  },
  {
   "cell_type": "markdown",
   "id": "534a3868-5458-4013-b0fb-897426fc088c",
   "metadata": {},
   "source": [
    "##### Q.12 Write a for loop to print numbers from 1 to 10."
   ]
  },
  {
   "cell_type": "code",
   "execution_count": 69,
   "id": "88745c98-4765-4745-a993-7393edf91eaf",
   "metadata": {},
   "outputs": [
    {
     "name": "stdout",
     "output_type": "stream",
     "text": [
      "1\n",
      "2\n",
      "3\n",
      "4\n",
      "5\n",
      "6\n",
      "7\n",
      "8\n",
      "9\n",
      "10\n"
     ]
    }
   ],
   "source": [
    "# Using for loop to print numbers 1to 10\n",
    "\n",
    "for i in range(1,11): #defining range in for loop\n",
    "    print(i)"
   ]
  },
  {
   "cell_type": "markdown",
   "id": "7e94515c-b2e2-4b3f-bb8d-7717a008c845",
   "metadata": {},
   "source": [
    "##### Q13. Write a Python program to find the sum of all even numbers between 1 and 50"
   ]
  },
  {
   "cell_type": "code",
   "execution_count": 78,
   "id": "2ff79365-25c7-407c-a505-69309d59b9db",
   "metadata": {},
   "outputs": [
    {
     "name": "stdout",
     "output_type": "stream",
     "text": [
      "Sum of all Even number is 650\n"
     ]
    }
   ],
   "source": [
    "## using for loop and if statement identifying sum of even number\n",
    "sum=0\n",
    "for num in range(1,51):\n",
    "    if num % 2 == 0:\n",
    "        sum=sum+num # doing sum of all even number\n",
    "print(\"Sum of all Even number is\",sum)"
   ]
  },
  {
   "cell_type": "markdown",
   "id": "606bcb56-5447-4277-86c6-c26e66966460",
   "metadata": {},
   "source": [
    "##### Q14.Write a program to reverse a string using a while loop."
   ]
  },
  {
   "cell_type": "code",
   "execution_count": 81,
   "id": "a3ba83f2-69b0-48c2-af89-278f220e37d9",
   "metadata": {},
   "outputs": [
    {
     "name": "stdin",
     "output_type": "stream",
     "text": [
      "Enter the string ABCD\n"
     ]
    },
    {
     "name": "stdout",
     "output_type": "stream",
     "text": [
      "Reversed string DCBA\n"
     ]
    }
   ],
   "source": [
    "## program to reverse the string using while loop\n",
    "\n",
    "string=input(\"Enter the string\")\n",
    "\n",
    "#Initialize variables\n",
    "rev=\"\"\n",
    "i=len(string)-1\n",
    "\n",
    "#loop to reverse the string\n",
    "while i>=0:\n",
    "    rev=rev+string[i]\n",
    "    i=i-1\n",
    "print(\"Reversed string\", rev)"
   ]
  },
  {
   "cell_type": "markdown",
   "id": "fe604adc-8363-40f1-923f-f707766b79a1",
   "metadata": {},
   "source": [
    "##### Q15. Write a Python program to calculate the factorial of a number provided by the user using a while loop."
   ]
  },
  {
   "cell_type": "code",
   "execution_count": 87,
   "id": "aa03fdae-e6f8-4c92-bcf1-82f1aa2c8569",
   "metadata": {},
   "outputs": [
    {
     "name": "stdin",
     "output_type": "stream",
     "text": [
      "Enter the number:  5\n"
     ]
    },
    {
     "name": "stdout",
     "output_type": "stream",
     "text": [
      "The factorial of 5 is 120\n"
     ]
    }
   ],
   "source": [
    "## writing program to calculate factorial of number using while loop\n",
    "\n",
    "num = int (input(\"Enter the number: \"))\n",
    "a=1\n",
    "b=1\n",
    "while b<=num:\n",
    "    a=a*b\n",
    "    b=b+1\n",
    "print(f\"The factorial of {num} is {a}\")\n"
   ]
  },
  {
   "cell_type": "code",
   "execution_count": null,
   "id": "5d70218d-7e0f-4dde-839e-bbe966513209",
   "metadata": {},
   "outputs": [],
   "source": []
  }
 ],
 "metadata": {
  "kernelspec": {
   "display_name": "Python [conda env:base] *",
   "language": "python",
   "name": "conda-base-py"
  },
  "language_info": {
   "codemirror_mode": {
    "name": "ipython",
    "version": 3
   },
   "file_extension": ".py",
   "mimetype": "text/x-python",
   "name": "python",
   "nbconvert_exporter": "python",
   "pygments_lexer": "ipython3",
   "version": "3.12.7"
  }
 },
 "nbformat": 4,
 "nbformat_minor": 5
}
